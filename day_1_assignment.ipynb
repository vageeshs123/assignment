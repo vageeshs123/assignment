{
  "nbformat": 4,
  "nbformat_minor": 0,
  "metadata": {
    "colab": {
      "name": "day 1 assignment",
      "provenance": [],
      "authorship_tag": "ABX9TyOVq0LM6t27xl/diTaIIwQ7",
      "include_colab_link": true
    },
    "kernelspec": {
      "name": "python3",
      "display_name": "Python 3"
    },
    "language_info": {
      "name": "python"
    }
  },
  "cells": [
    {
      "cell_type": "markdown",
      "metadata": {
        "id": "view-in-github",
        "colab_type": "text"
      },
      "source": [
        "<a href=\"https://colab.research.google.com/github/vageeshs123/assignment/blob/main/day_1_assignment.ipynb\" target=\"_parent\"><img src=\"https://colab.research.google.com/assets/colab-badge.svg\" alt=\"Open In Colab\"/></a>"
      ]
    },
    {
      "cell_type": "code",
      "metadata": {
        "id": "O5xhgQWNK82w",
        "colab": {
          "base_uri": "https://localhost:8080/"
        },
        "outputId": "176ffbeb-9692-4bc0-a5bb-73f21090dc17"
      },
      "source": [
        "x=int(input('enter the first value:'))\n",
        "y=int(input('enter the second value:'))\n",
        "print(x**y)\n"
      ],
      "execution_count": 1,
      "outputs": [
        {
          "output_type": "stream",
          "text": [
            "enter the first value:3\n",
            "enter the second value:4\n",
            "81\n"
          ],
          "name": "stdout"
        }
      ]
    }
  ]
}